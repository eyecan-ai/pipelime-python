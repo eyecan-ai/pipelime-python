{
 "cells": [
  {
   "cell_type": "markdown",
   "metadata": {},
   "source": [
    "# Remote Data Lakes\n",
    "\n",
    "Sharing and versioning a dataset is not feasible for large binary data, so pipelime\n",
    "gives you the option to store your data in a remote data lake and silently download it\n",
    "when an item is accessed. Then, you can dump just the remote data addresses, ie, json\n",
    "text files that you can easily version and share."
   ]
  },
  {
   "cell_type": "markdown",
   "metadata": {},
   "source": [
    "## File Remote Example\n",
    "\n",
    "For this example we'll use a filesystem-based remote data lake, ie, a local folder where\n",
    "data will be stored. To this end, let's create a local folder:"
   ]
  },
  {
   "cell_type": "code",
   "execution_count": null,
   "metadata": {},
   "outputs": [],
   "source": [
    "from pathlib import Path\n",
    "\n",
    "Path(\"local-remote\").mkdir(exist_ok=True)"
   ]
  },
  {
   "cell_type": "markdown",
   "metadata": {},
   "source": [
    "Now upload a dataset and save the remote data file:"
   ]
  },
  {
   "cell_type": "code",
   "execution_count": null,
   "metadata": {},
   "outputs": [],
   "source": [
    "!pipelime remote-add +input.folder ../../tests/sample_data/datasets/underfolder_minimnist +output.folder uploaded_dataset +output.exists_ok +remotes.url \"file://localhost/local-remote\""
   ]
  },
  {
   "cell_type": "markdown",
   "metadata": {},
   "source": [
    "We can iterate through the dataset as usual:"
   ]
  },
  {
   "cell_type": "code",
   "execution_count": null,
   "metadata": {},
   "outputs": [],
   "source": [
    "from pipelime.sequences import SamplesSequence\n",
    "from PIL import Image\n",
    "from IPython.display import display\n",
    "\n",
    "for idx, s in enumerate(\n",
    "    SamplesSequence.from_underfolder(\"uploaded_dataset\").enumerate()[:10:2]  # type: ignore\n",
    "):\n",
    "    print(f\"{idx:>02d}: Sample #{int(s['~idx']()):>02d}\", flush=True)\n",
    "    display(Image.fromarray(s[\"image\"]()), Image.fromarray(s[\"mask\"]()))\n"
   ]
  },
  {
   "cell_type": "markdown",
   "metadata": {},
   "source": [
    "Then we'll download the data and save it locally. Note that the default serialization\n",
    "mode writes the remote paths, if available, so we need to force the creation of a new\n",
    "file:"
   ]
  },
  {
   "cell_type": "code",
   "execution_count": null,
   "metadata": {},
   "outputs": [],
   "source": [
    "!pipelime clone +input.folder uploaded_dataset +output.folder downloaded_dataset +output.exists_ok +output.serialization.override.CREATE_NEW_FILE null"
   ]
  },
  {
   "cell_type": "markdown",
   "metadata": {},
   "source": [
    "Finally, check the data is correct:"
   ]
  },
  {
   "cell_type": "code",
   "execution_count": null,
   "metadata": {},
   "outputs": [],
   "source": [
    "import numpy as np\n",
    "\n",
    "\n",
    "def _check_numpy(s1, s2, s3, k):\n",
    "    assert np.array_equal(s1[k](), s2[k](), equal_nan=True)\n",
    "    assert np.array_equal(s2[k](), s3[k](), equal_nan=True)\n",
    "\n",
    "\n",
    "for s1, s2, s3 in zip(\n",
    "    SamplesSequence.from_underfolder(  # type: ignore\n",
    "        \"../../tests/sample_data/datasets/underfolder_minimnist\"\n",
    "    ),\n",
    "    SamplesSequence.from_underfolder(\"uploaded_dataset\"),  # type: ignore\n",
    "    SamplesSequence.from_underfolder(\"downloaded_dataset\"),  # type: ignore\n",
    "):\n",
    "    assert list(s1.keys()) == list(s2.keys()) == list(s3.keys())\n",
    "    _check_numpy(s1, s2, s3, \"image\")\n",
    "    _check_numpy(s1, s2, s3, \"mask\")\n",
    "    _check_numpy(s1, s2, s3, \"label\")\n",
    "    _check_numpy(s1, s2, s3, \"points\")\n",
    "    assert s1[\"metadata\"]() == s2[\"metadata\"]() == s3[\"metadata\"]()\n",
    "    assert s1[\"cfg\"]() == s2[\"cfg\"]() == s3[\"cfg\"]()\n",
    "    _check_numpy(s1, s2, s3, \"numbers\")\n",
    "    _check_numpy(s1, s2, s3, \"pose\")\n",
    "    for k in s1:\n",
    "        assert s1[k].is_shared == s2[k].is_shared == s3[k].is_shared\n",
    "\n",
    "print(\"Everything is OK!\")\n"
   ]
  }
 ],
 "metadata": {
  "interpreter": {
   "hash": "469fef48c6b116a8cbba19e3056aac05c6680f70f24ce841e82a3d44c42603cf"
  },
  "kernelspec": {
   "display_name": "Python 3.8.13 ('pl38')",
   "language": "python",
   "name": "python3"
  },
  "language_info": {
   "codemirror_mode": {
    "name": "ipython",
    "version": 3
   },
   "file_extension": ".py",
   "mimetype": "text/x-python",
   "name": "python",
   "nbconvert_exporter": "python",
   "pygments_lexer": "ipython3",
   "version": "3.8.13"
  },
  "orig_nbformat": 4
 },
 "nbformat": 4,
 "nbformat_minor": 2
}
