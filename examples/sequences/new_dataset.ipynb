{
 "cells": [
  {
   "cell_type": "markdown",
   "metadata": {},
   "source": [
    "# Creating A New Dataset From Streaming Data\n",
    "\n",
    "When you want to capture streaming data an send them to a newly created dataset, you can\n",
    "use a variant of the `DataStream` class.\n",
    "\n",
    "First, let's create a sequence to get samples from:"
   ]
  },
  {
   "cell_type": "code",
   "execution_count": null,
   "metadata": {},
   "outputs": [],
   "source": [
    "from pipelime.sequences import SamplesSequence\n",
    "\n",
    "source_seq = SamplesSequence.toy_dataset(1)  # type: ignore"
   ]
  },
  {
   "cell_type": "markdown",
   "metadata": {},
   "source": [
    "Now open a stream and write a sample. You don't have to write all the indexes, but then\n",
    "missing values will appear in the dataset:"
   ]
  },
  {
   "cell_type": "code",
   "execution_count": null,
   "metadata": {},
   "outputs": [],
   "source": [
    "import shutil\n",
    "from pipelime.sequences import DataStream\n",
    "\n",
    "shutil.rmtree(\"new_dataset\", ignore_errors=True)\n",
    "data_stream = DataStream.create_new_underfolder(\"new_dataset\")\n",
    "\n",
    "# you don't have to set all the indexes\n",
    "print(\"Setting sample 10...\")\n",
    "data_stream.set_output(10, source_seq[0])\n",
    "\n",
    "print(\"Sample #10 keys:\", list(data_stream[10].keys()))\n",
    "print(\"Sample #0 does not exist:\")\n",
    "print(data_stream[0])"
   ]
  }
 ],
 "metadata": {
  "kernelspec": {
   "display_name": "Python 3.8.13 ('pl38')",
   "language": "python",
   "name": "python3"
  },
  "language_info": {
   "codemirror_mode": {
    "name": "ipython",
    "version": 3
   },
   "file_extension": ".py",
   "mimetype": "text/x-python",
   "name": "python",
   "nbconvert_exporter": "python",
   "pygments_lexer": "ipython3",
   "version": "3.8.13"
  },
  "orig_nbformat": 4,
  "vscode": {
   "interpreter": {
    "hash": "469fef48c6b116a8cbba19e3056aac05c6680f70f24ce841e82a3d44c42603cf"
   }
  }
 },
 "nbformat": 4,
 "nbformat_minor": 2
}
