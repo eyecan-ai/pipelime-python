{
 "cells": [
  {
   "cell_type": "markdown",
   "metadata": {},
   "source": [
    "# Writing Your Own Sequence Operator\n",
    "\n",
    "A sequence operator is a pydantic model derived from\n",
    "`pipelime.sequences.SamplesSequence`. Though it is intended to somehow process the\n",
    "samples, it should not be confused with a sample stage:\n",
    "* a sample stage is a function that takes a sample and returns a sample, while a\n",
    "sequence operator returns a sample at a given index\n",
    "* a sample stage has access only to the sample it processes, while a sequence\n",
    "operator has a complete access to the source data\n",
    "* a sample stage *receives* the sample to process, while a sequence operator\n",
    "*may pick or not* the sample from another source\n",
    "\n",
    "There exists two types of sequence operators:\n",
    "* *generators*: they do not have a source samples sequence\n",
    "* *pipes*: they get another samples sequence as source input\n",
    "\n",
    "Therefore, generators are called as class methods on the SamplesSequence class, while\n",
    "piped operators are instance methods of the object creating a new SamplesSequence with\n",
    "`self` as input source:"
   ]
  },
  {
   "cell_type": "code",
   "execution_count": null,
   "metadata": {},
   "outputs": [],
   "source": [
    "from pipelime.sequences import SamplesSequence\n",
    "\n",
    "seq = SamplesSequence.toy_dataset(length=10)  # type: ignore\n",
    "seq = seq.shuffle()"
   ]
  },
  {
   "cell_type": "markdown",
   "metadata": {},
   "source": [
    "## Generators\n",
    "\n",
    "To define your own generator you can directly derive from\n",
    "`pipelime.sequences.SamplesSequence`, then:\n",
    "* put the decorator `@pipelime.sequences.source_sequence` on top of your class\n",
    "* set a `title` as metaclass keyword argument, eg,\n",
    "`class Foo(SamplesSequence, title=\"foo\")`: this will be the name of the class method to\n",
    "call\n",
    "* describe what the generator does in the class help\n",
    "* use `pydantic.Field` for each parameter:\n",
    "  * always set a default or `...` for required parameters (CAVEAT: use\n",
    "  `default_factory` to create mutable objects, eg, `dict` or `list`)\n",
    "  * insert a descriptive help with `description=...`\n",
    "* define a `pydantic.validator` to give better insights when inputs are wrong\n",
    "* implement `def size(self) -> int` and `def get_sample(self, idx: int) -> Sample`"
   ]
  },
  {
   "cell_type": "markdown",
   "metadata": {},
   "source": [
    "## Pipes\n",
    "\n",
    "To define your own pipe you can derive from\n",
    "`pipelime.sequences.pipes.PipedSequenceBase` to get a reasonable base implementation,\n",
    "then:\n",
    "* put the decorator `@pipelime.sequences.piped_sequence` on top of your class\n",
    "* set a `title` as metaclass keyword argument, eg,\n",
    "`class Foo(PipedSequenceBase, title=\"foo\")`: this will be the name of the method to\n",
    "call\n",
    "* describe what the pipe does in the class help\n",
    "* use `pydantic.Field` for each parameter:\n",
    "  * always set a default or `...` for required parameters (CAVEAT: use\n",
    "  `default_factory` to create mutable objects, eg, `dict` or `list`)\n",
    "  * insert a descriptive help with `description=...`\n",
    "* define a `pydantic.validator` to give better insights when inputs are wrong\n",
    "* *(only if needed)* implement `def size(self) -> int` and/or\n",
    "`def get_sample(self, idx: int) -> Sample`\n",
    "* to get access to the source samples sequence, simply use `self.source`"
   ]
  },
  {
   "cell_type": "markdown",
   "metadata": {},
   "source": [
    "## A Pipe Example\n",
    "\n",
    "In `my_pipe.py` there is a piped sequence operator that reverse the order of the first\n",
    "*n* samples of the source sequence. To see the help from command line, we have to\n",
    "first specify the module path, then the operator name, since it has to registered as\n",
    "attribute on SamplesSequence:"
   ]
  },
  {
   "cell_type": "code",
   "execution_count": null,
   "metadata": {},
   "outputs": [],
   "source": [
    "!pipelime -m my_pipe.py reversed help"
   ]
  },
  {
   "cell_type": "code",
   "execution_count": null,
   "metadata": {},
   "outputs": [],
   "source": [
    "import my_pipe\n",
    "from pipelime.cli.utils import print_command_op_stage_info\n",
    "\n",
    "print_command_op_stage_info(\"reversed\")"
   ]
  },
  {
   "cell_type": "code",
   "execution_count": null,
   "metadata": {},
   "outputs": [],
   "source": [
    "import my_pipe\n",
    "from pipelime.sequences import SamplesSequence\n",
    "\n",
    "seq = SamplesSequence.from_underfolder(  # type: ignore\n",
    "    \"../../tests/sample_data/datasets/underfolder_minimnist\"\n",
    ")\n",
    "\n",
    "print(\"IDX | Original Sequence | Reversed Sequence\")\n",
    "for idx, (s1, s2) in enumerate(zip(seq, seq.reversed(num=10))):\n",
    "    print(f\"#{idx:0>2d}\", \"|\", int(s1[\"label\"]()), \"|\", int(s2[\"label\"]()), sep=\"\\t\")"
   ]
  }
 ],
 "metadata": {
  "interpreter": {
   "hash": "469fef48c6b116a8cbba19e3056aac05c6680f70f24ce841e82a3d44c42603cf"
  },
  "kernelspec": {
   "display_name": "Python 3.8.13 ('pl38')",
   "language": "python",
   "name": "python3"
  },
  "language_info": {
   "codemirror_mode": {
    "name": "ipython",
    "version": 3
   },
   "file_extension": ".py",
   "mimetype": "text/x-python",
   "name": "python",
   "nbconvert_exporter": "python",
   "pygments_lexer": "ipython3",
   "version": "3.8.13"
  },
  "orig_nbformat": 4
 },
 "nbformat": 4,
 "nbformat_minor": 2
}
