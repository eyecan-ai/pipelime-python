{
 "cells": [
  {
   "cell_type": "markdown",
   "metadata": {},
   "source": [
    "# Data Streams\n",
    "\n",
    "A data stream is a façade bringing together an input sequence and an output processing\n",
    "pipe which are not directly connected. Instead, you get samples from the input and pass\n",
    "them to the output only when ready. Though unusual, this pattern becomes useful, eg,\n",
    "when the user has to interact asyncronously with the dataset.\n",
    "\n",
    "First, we need a toy dataset to play with:"
   ]
  },
  {
   "cell_type": "code",
   "execution_count": null,
   "metadata": {},
   "outputs": [],
   "source": [
    "from pipelime.sequences import SamplesSequence\n",
    "import shutil\n",
    "\n",
    "\n",
    "shutil.rmtree(\"toy_dataset\", ignore_errors=True)\n",
    "for _ in SamplesSequence.toy_dataset(3).to_underfolder(\"toy_dataset\"):  # type: ignore\n",
    "    pass\n"
   ]
  },
  {
   "cell_type": "markdown",
   "metadata": {},
   "source": [
    "Now create a DataStream object and read/write some samples:"
   ]
  },
  {
   "cell_type": "code",
   "execution_count": null,
   "metadata": {},
   "outputs": [],
   "source": [
    "from pipelime.sequences import SamplesSequence, DataStream\n",
    "from pipelime.items import JsonMetadataItem\n",
    "import numpy as np\n",
    "\n",
    "# getting data\n",
    "# NB: cache is disabled on these items\n",
    "data_stream = DataStream.rw_underfolder(\"toy_dataset\")\n",
    "s0 = data_stream[0]\n",
    "print(\"original label:\", s0[\"label\"]())\n",
    "\n",
    "# changing an item value does not propagate to the original data\n",
    "new_s0 = s0.set_value(\"label\", s0[\"label\"]() + np.random.normal(0, .1))  # type: ignore\n",
    "print(\"noisy label:\", new_s0[\"label\"]())\n",
    "assert new_s0[\"label\"]() != s0[\"label\"]()\n",
    "\n",
    "# creates a new item and save all changes\n",
    "new_s0 = new_s0.set_item(\"new_label\", JsonMetadataItem([np.random.randint(100, 110)]))\n",
    "print(\"new label:\", new_s0[\"new_label\"]())\n",
    "data_stream.process_sample(0, new_s0, [\"label\", \"new_label\"])\n",
    "\n",
    "# now the original data is updated as well, since with\n",
    "# no data cache the item is always read from disk\n",
    "assert new_s0[\"label\"]() == s0[\"label\"]()\n",
    "assert \"new_label\" not in s0\n",
    "\n",
    "# however, to read new keys we first need to reload the DataStream\n",
    "data_stream = DataStream.rw_underfolder(\"toy_dataset\")\n",
    "assert new_s0[\"new_label\"]() == data_stream[0][\"new_label\"]()"
   ]
  }
 ],
 "metadata": {
  "interpreter": {
   "hash": "469fef48c6b116a8cbba19e3056aac05c6680f70f24ce841e82a3d44c42603cf"
  },
  "kernelspec": {
   "display_name": "Python 3.8.13 ('pl38')",
   "language": "python",
   "name": "python3"
  },
  "language_info": {
   "codemirror_mode": {
    "name": "ipython",
    "version": 3
   },
   "file_extension": ".py",
   "mimetype": "text/x-python",
   "name": "python",
   "nbconvert_exporter": "python",
   "pygments_lexer": "ipython3",
   "version": "3.8.13"
  },
  "orig_nbformat": 4
 },
 "nbformat": 4,
 "nbformat_minor": 2
}
