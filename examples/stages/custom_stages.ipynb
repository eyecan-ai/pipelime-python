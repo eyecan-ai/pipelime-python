{
 "cells": [
  {
   "cell_type": "markdown",
   "metadata": {},
   "source": [
    "# Sample Stages\n",
    "\n",
    "A stage is a pydantic model derived from `pipelime.stages.SampleStage` that processes samples\n",
    "while they are extracted from a sequence. A stage is applied to a dataset through the\n",
    "operation `map`:"
   ]
  },
  {
   "cell_type": "code",
   "execution_count": null,
   "metadata": {},
   "outputs": [],
   "source": [
    "from pipelime.cli.utils import print_command_op_stage_info\n",
    "\n",
    "print_command_op_stage_info(\"map\")"
   ]
  },
  {
   "cell_type": "markdown",
   "metadata": {},
   "source": [
    "The available stages are listed by running `pipelime list` or calling the printer:"
   ]
  },
  {
   "cell_type": "code",
   "execution_count": null,
   "metadata": {},
   "outputs": [],
   "source": [
    "from pipelime.cli.utils import print_commands_ops_stages_list\n",
    "\n",
    "print_commands_ops_stages_list(show_cmds=False, show_ops=False, show_stages=True)"
   ]
  },
  {
   "cell_type": "markdown",
   "metadata": {},
   "source": [
    "## Custom Stages\n",
    "\n",
    "To write your own sample stage, you need to create a class derived from\n",
    "`pipelime.stages.SampleStage` and implement the\n",
    "`__call__(self, x: Sample) -> Sample` method.\n",
    "Also, when manipulating the samples, you should never modify the original sample, rather\n",
    "use Sample's method to get an updated instance. Here a minimal list:\n",
    "* `shallow_copy`: returns a sample with a new internal mapping object, but the same item\n",
    "instances\n",
    "* `deep_copy`: duplicates the whole sample, including the items\n",
    "* `set_item`: extends the sample with a new item or changes the item assigned to an\n",
    "existing key\n",
    "* `set_value`: changes the value of an existing item\n",
    "* `deep_set`/`deep_get`: sets/gets the value of a nested structure, such as `MetadataItem`, using a\n",
    "pydash-like address\n",
    "* `match`: returns the result of a `dictquery` match\n",
    "* `rename_key`: changes the name of a key\n",
    "* `duplicate_key`: creates a new key and assignes a reference to another item\n",
    "* `remove_keys`/`extract_keys`: creates a new sample with a subset of the original keys\n",
    "* `merge`/`update`: updates and overwrites the original sample\n",
    "* `to_dict`: converts the sample to a dictionary of item values"
   ]
  },
  {
   "cell_type": "markdown",
   "metadata": {},
   "source": [
    "As an example, review the class `MyStage` in the *my_stage.py* module:\n",
    "1. it needs a source key and a target key\n",
    "1. if the current sample has the source key and it is a numpy array, the value is read\n",
    "1. the value is multiplied by 2.5\n",
    "1. a new numpy item is initialized with such value and it is assigned to the target key"
   ]
  },
  {
   "cell_type": "markdown",
   "metadata": {},
   "source": [
    "Let's see how it looks like in the pipelime shell!"
   ]
  },
  {
   "cell_type": "code",
   "execution_count": null,
   "metadata": {},
   "outputs": [],
   "source": [
    "!pipelime help my_stage.py:MyStage"
   ]
  },
  {
   "cell_type": "code",
   "execution_count": null,
   "metadata": {},
   "outputs": [],
   "source": [
    "!pipelime -m my_stage.py help MyStage"
   ]
  },
  {
   "cell_type": "markdown",
   "metadata": {},
   "source": [
    "And now apply the stage within a custom data pipe (beware of the different shell\n",
    "escaping patterns):"
   ]
  },
  {
   "cell_type": "code",
   "execution_count": null,
   "metadata": {},
   "outputs": [],
   "source": [
    "### windows cmd ###\n",
    "# !pipelime pipe +input.folder \"../../tests/sample_data/datasets/underfolder_minimnist\" +output.folder \"./my_stage_output\" +output.exists_ok \"+operations.map.$model\" my_stage.py:MyStage \"+operations.map.$args.source_key\" label \"+operations.map.$args.target_key\" double_half_label\n",
    "\n",
    "### bash/zsh (single quotes to escape $) ###\n",
    "# !pipelime pipe +input.folder \"../../tests/sample_data/datasets/underfolder_minimnist\" +output.folder \"./my_stage_output\" +output.exists_ok '+operations.map.$model' my_stage.py:MyStage '+operations.map.$args.source_key' label '+operations.map.$args.target_key' double_half_label"
   ]
  }
 ],
 "metadata": {
  "kernelspec": {
   "display_name": "Python 3.8.13 ('pl38')",
   "language": "python",
   "name": "python3"
  },
  "language_info": {
   "codemirror_mode": {
    "name": "ipython",
    "version": 3
   },
   "file_extension": ".py",
   "mimetype": "text/x-python",
   "name": "python",
   "nbconvert_exporter": "python",
   "pygments_lexer": "ipython3",
   "version": "3.8.13"
  },
  "orig_nbformat": 4,
  "vscode": {
   "interpreter": {
    "hash": "469fef48c6b116a8cbba19e3056aac05c6680f70f24ce841e82a3d44c42603cf"
   }
  }
 },
 "nbformat": 4,
 "nbformat_minor": 2
}
