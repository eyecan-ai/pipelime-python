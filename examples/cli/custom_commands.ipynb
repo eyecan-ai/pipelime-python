{
 "cells": [
  {
   "cell_type": "markdown",
   "metadata": {},
   "source": [
    "# Writing Your Own Pipelime Command\n",
    "\n",
    "A pipelime command is a pydantic model derived from `pipelime.piper.PipelimeCommand`,\n",
    "where the whole logic is encapsulated in the `def run(self)` method.\n",
    "Also, to get full integration with the pipelime ecosystem, you should follow these\n",
    "guidelines:\n",
    "* describe what the command does in the class help\n",
    "* give it a `title` as metaclass keyword argument, eg,\n",
    "`class Foo(PipelimeCommand, title=\"foocmd\")`, so that it can be found by the `pipelime`\n",
    "cli\n",
    "* use `pydantic.Field` for each parameter:\n",
    "  * always set a default or `...` for required parameters (CAVEAT: use\n",
    "  `default_factory` to create mutable objects, eg, `dict` or `list`)\n",
    "  * insert a descriptive help with `description=...`\n",
    "  * mark your inputs with `piper_port=pipelime.piper.PiperPortType.INPUT`\n",
    "  * mark your outputs with `piper_port=pipelime.piper.PiperPortType.OUTPUT`\n",
    "* reuse existing interfaces from `pipelime.commands.interfaces` whenever possible\n",
    "* define a `pydantic.validator` to give better insights when inputs are wrong\n",
    "\n",
    "**NB**: input and output ports should be carefully set, since they make possible to\n",
    "connect nodes together and build a graph. Pipelime calls `__piper_repr__()`, if\n",
    "available, or `__str__()`, otherwise, on input/output fields to get string\n",
    "representations to match between nodes."
   ]
  },
  {
   "cell_type": "markdown",
   "metadata": {},
   "source": [
    "A toy example is given in *my_command.py*: let's see the command in action!"
   ]
  },
  {
   "cell_type": "code",
   "execution_count": null,
   "metadata": {},
   "outputs": [],
   "source": [
    "!pipelime my_command.py:RandomSlice help"
   ]
  },
  {
   "cell_type": "code",
   "execution_count": null,
   "metadata": {},
   "outputs": [],
   "source": [
    "!pipelime -m my_command.py rnd-range help"
   ]
  },
  {
   "cell_type": "code",
   "execution_count": null,
   "metadata": {},
   "outputs": [],
   "source": [
    "!pipelime rnd-range -m my_command.py +input.folder \"../../tests/sample_data/datasets/underfolder_minimnist\" +output.folder \"rnd_range_out\" +output.exists_ok"
   ]
  }
 ],
 "metadata": {
  "interpreter": {
   "hash": "469fef48c6b116a8cbba19e3056aac05c6680f70f24ce841e82a3d44c42603cf"
  },
  "kernelspec": {
   "display_name": "Python 3.8.13 ('pl38')",
   "language": "python",
   "name": "python3"
  },
  "language_info": {
   "codemirror_mode": {
    "name": "ipython",
    "version": 3
   },
   "file_extension": ".py",
   "mimetype": "text/x-python",
   "name": "python",
   "nbconvert_exporter": "python",
   "pygments_lexer": "ipython3",
   "version": "3.8.13"
  },
  "orig_nbformat": 4
 },
 "nbformat": 4,
 "nbformat_minor": 2
}
