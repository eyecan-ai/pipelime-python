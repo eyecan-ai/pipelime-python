{
 "cells": [
  {
   "cell_type": "markdown",
   "metadata": {},
   "source": [
    "# Pipelime Command Line Interface\n",
    "\n",
    "The pipelime command line interface is a powerful tool to automate data processing.\n",
    "First, you can get help simply typing `pipelime`, `pipelime help`, `pipelime --help` or\n",
    "even `pipelime -h`:"
   ]
  },
  {
   "cell_type": "code",
   "execution_count": null,
   "metadata": {},
   "outputs": [],
   "source": [
    "!pipelime"
   ]
  },
  {
   "cell_type": "markdown",
   "metadata": {},
   "source": [
    "The CLI is built around the concept of `Pipelime Command`, which encapsulates an\n",
    "operation and makes it available both to the CLI and usual python scripting. Such\n",
    "commands are dynamically loaded at runtime, so you can always run a third-party command\n",
    "just by setting its full class path, eg, `my_package.my_module.MyCommand` or\n",
    "`path/to/my_module.py:MyCommand`. Alternatively, let pipelime find and load your command\n",
    "by setting `--module my_package.my_module` or `--module path/to/my_module.py`, then\n",
    "refer to it by its pydantic title (see **#TODO REF**).\n",
    "\n",
    "The list of available commands and sequence operators (more on this later in this doc)\n",
    "can be retrieved with:"
   ]
  },
  {
   "cell_type": "code",
   "execution_count": null,
   "metadata": {},
   "outputs": [],
   "source": [
    "!pipelime list"
   ]
  },
  {
   "cell_type": "markdown",
   "metadata": {},
   "source": [
    "Now, to get help for a specific command or sequence operator, just type\n",
    "`pipelime help <cmd>`, `pipelime <cmd> help`, `pipelime --help <cmd>`, etc,\n",
    "eg (best viewed in a *real* terminal window):"
   ]
  },
  {
   "cell_type": "code",
   "execution_count": null,
   "metadata": {},
   "outputs": [],
   "source": [
    "!pipelime --help clone"
   ]
  },
  {
   "cell_type": "markdown",
   "metadata": {},
   "source": [
    "Also, the same help can be printed during an interactive session by explicitly calling the printer: "
   ]
  },
  {
   "cell_type": "code",
   "execution_count": null,
   "metadata": {},
   "outputs": [],
   "source": [
    "from pipelime.cli.pretty_print import print_model_info\n",
    "from pipelime.commands import CloneCommand\n",
    "\n",
    "print_model_info(CloneCommand)"
   ]
  },
  {
   "cell_type": "markdown",
   "metadata": {},
   "source": [
    "## Running A Command\n",
    "\n",
    "As you can see above, the *clone* command:\n",
    "* needs 3 arguments: **input** (required), **output** (required) and **grabber** (optional)\n",
    "* each argument is, in fact, an *interface* encapsulating a full range of options in a tree-like structure\n",
    "\n",
    "When you call *clone* through the pipelime cli, you can set all those options in different ways, ie:\n",
    "* pydash-like key paths prefixed with \"+\", where the \".\" separates nested keys and \"[]\"\n",
    "indexes a list, eg, `+input.folder path/to/folder`.\n",
    "* a json/yaml configuration file specified as `--config path/to/cfg.yaml`. Note that command line\n",
    "options update and override config file definitions."
   ]
  },
  {
   "cell_type": "code",
   "execution_count": null,
   "metadata": {},
   "outputs": [],
   "source": [
    "!pipelime clone +input.folder ../../tests/sample_data/datasets/underfolder_minimnist +output.folder ./clone_out +output.exists_ok=True"
   ]
  },
  {
   "cell_type": "markdown",
   "metadata": {},
   "source": [
    "Likewise, the `CloneCommand` can be created and run in a python script as well:"
   ]
  },
  {
   "cell_type": "code",
   "execution_count": null,
   "metadata": {},
   "outputs": [],
   "source": [
    "from pipelime.commands import CloneCommand\n",
    "from pipelime.cli.pretty_print import print_command_outputs\n",
    "\n",
    "cmd = CloneCommand(\n",
    "    input={\"folder\": \"../../tests/sample_data/datasets/underfolder_minimnist\"},\n",
    "    output={\"folder\": \"./clone_out\", \"exists_ok\": True},\n",
    ")\n",
    "cmd()\n",
    "print_command_outputs(cmd)"
   ]
  },
  {
   "cell_type": "markdown",
   "metadata": {},
   "source": [
    "## Executing A Graph Of Commands\n",
    "\n",
    "Multiple commands can be chained ad executed as a Direct Acyclic Graph (DAG) by the *run* command (`RunCommand`):"
   ]
  },
  {
   "cell_type": "code",
   "execution_count": null,
   "metadata": {},
   "outputs": [],
   "source": [
    "from pipelime.commands import RunCommand\n",
    "print_model_info(RunCommand)"
   ]
  },
  {
   "cell_type": "markdown",
   "metadata": {},
   "source": [
    "The `nodes` attribute is a mapping of nodes, where the keys are the nodes' names and the values the actual commands to execute. As a practical example, look at the *complex_dag.yaml* file. It may seem intimidating at first, but we can easily understand the data flow by drawing it:"
   ]
  },
  {
   "cell_type": "code",
   "execution_count": null,
   "metadata": {},
   "outputs": [],
   "source": [
    "!pipelime draw --config complex_dag.yaml"
   ]
  },
  {
   "cell_type": "markdown",
   "metadata": {},
   "source": [
    "Oops! Something went wrong...\n",
    "As the error message says, we need to specify some variables. To get a full list,\n",
    "just audit the configuration file:"
   ]
  },
  {
   "cell_type": "code",
   "execution_count": null,
   "metadata": {},
   "outputs": [],
   "source": [
    "!pipelime audit --config complex_dag.yaml"
   ]
  },
  {
   "cell_type": "markdown",
   "metadata": {},
   "source": [
    "The `complex_params.yaml` file defines such variables, except for `params.root_folder`, which might be OS-dependent and so it must be defined on the command line using the special `!` prefix:"
   ]
  },
  {
   "cell_type": "code",
   "execution_count": null,
   "metadata": {},
   "outputs": [],
   "source": [
    "!pipelime audit --config complex_dag.yaml --context complex_params.yaml !params.root_folder=./output"
   ]
  },
  {
   "cell_type": "markdown",
   "metadata": {},
   "source": [
    "Now we are ready to inspect and run the computation graph (NB: manually remove the `output` folder before each run):"
   ]
  },
  {
   "cell_type": "code",
   "execution_count": null,
   "metadata": {},
   "outputs": [],
   "source": [
    "!pipelime draw --config complex_dag.yaml --context complex_params.yaml !params.root_folder=./output"
   ]
  },
  {
   "cell_type": "code",
   "execution_count": null,
   "metadata": {},
   "outputs": [],
   "source": [
    "!pipelime run --config complex_dag.yaml --context complex_params.yaml !params.root_folder=./output"
   ]
  }
 ],
 "metadata": {
  "interpreter": {
   "hash": "469fef48c6b116a8cbba19e3056aac05c6680f70f24ce841e82a3d44c42603cf"
  },
  "kernelspec": {
   "display_name": "Python 3.8.13 ('pl38')",
   "language": "python",
   "name": "python3"
  },
  "language_info": {
   "codemirror_mode": {
    "name": "ipython",
    "version": 3
   },
   "file_extension": ".py",
   "mimetype": "text/x-python",
   "name": "python",
   "nbconvert_exporter": "python",
   "pygments_lexer": "ipython3",
   "version": "3.8.13"
  },
  "orig_nbformat": 4
 },
 "nbformat": 4,
 "nbformat_minor": 2
}
